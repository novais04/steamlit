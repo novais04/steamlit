import pandas as pd
import numpy as np
import seaborn as sns
import warnings
warnings.filterwarnings('ignore')



df = pd.read_excel(r'../programming_is_fun/data/Superstore.xls', nrows=50)


df.head()


# Tabela dinamica
pivot = pd.pivot_table(df, index=['Region', 'Segment'],
                      values=['Sales','Profit'],
                      aggfunc='sum')


pivot


pivot.style.format(precision=2, na_rep=0, thousands=",")


pivot.style.format({"Sales": "$ {0:,.2f}", "Profit": "$ {0:,.2f}"})


### Set DataFrame background Colors 


number = pd.DataFrame({'number':[1, 2, 3, 4, 5, 6, 7, 8, 9, 10]})


number


number.style.background_gradient(cmap="RdYlGn_r")


pivot


def highlight_sales(value):
    if value > 2000 and value < 100000:
        color = 'blue'
    else:
        color= 'red'
    return f'color: {color}'


pivot_condition = pivot.style.applymap(highlight_sales)


pivot_condition


pivot_condition = pivot.style.applymap(highlight_sales).format({"Sales": "$ {0:,.2f}", "Profit": "$ {0:,.2f}"})


pivot_condition


# hifhlight max and min value


pivot.style.highlight_max(color = "green").highlight_min(color="red")


df1 = pd.DataFrame({"A":[1,2,3], "B": [3,np.nan,4]})


df1


df1.style.highlight_null(color = "blue")


df.head().style.bar(color="cyan", subset = ["Sales", "Profit"], align="left")


pivot.style.background_gradient(cmap = "Oranges")


pivot.style.background_gradient(subset="Sales",cmap = "Oranges")


### Hover on Dataset


def hover(hover_color="#12ACD0"):
    return {
        'selector' : 'tr:hover',
        'props': [('background-color', hover_color)]
    }

styles = [hover(), {'selector': 'th', 'props': [('font-size', '150%'),
                                               ('textpalign', 'center'),
                                               ]}]
style_table = pivot.style.set_table_styles(styles).set_caption("hover to highlighy")


style_table



