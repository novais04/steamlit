import streamlit as st 
import pandas as pd 
import numpy as np


df = pd.DataFrame(np.random.randn(50,20), columns=("col %d" % i for i in range(20)))


st.dataframe(df)


get_ipython().getoutput("streamlit run /Users/anselmo/opt/anaconda3/envs/dash_env/lib/python3.11/site-packages/ipykernel_launcher.py")



