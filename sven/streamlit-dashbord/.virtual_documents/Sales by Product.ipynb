import pandas as pd
from datetime import datetime as dt
import plotly.express as px


df = pd.read_excel(r'../streamlit-dashbord/supermarkt_sales.xlsx', header=3, usecols="B:R")
df.sample(3)


df['hour']=pd.to_datetime(df['Time'], format="%H:%M:%S").dt.hour
df['hour'].astype(int)


sales_by_hour = df.groupby(by=['hour'])[['Total']].sum()
sales_by_hour


fig_hourly_sales = px.bar(
    sales_by_hour,
    x=sales_by_hour.index,
    y='Total',
    title="<b>Sales by Hour</b>",
    color_discrete_sequence=['#0083B8']*len(sales_by_hour),
    template="plotly_white"
)
fig_hourly_sales.update_layout(
    xaxis=dict(tickmode='linear'),
    plot_bgcolor="rgba(0,0,0,0)",
    yaxis=(dict(showgrid=False))
)
fig_hourly_sales


df.info()


df.dtypes


df.columns


df.groupby("Product line")[['Unit price', 'Quantity', 'Tax 5%', 'Total', 'cogs', 'gross margin percentage', 'gross income','Rating']].sum()


df.groupby(by=['Product line'])[['Total']].sum()


df.groupby(by=['Product line'])[['Total']].sum().sort_values(by="Total", ascending=False)



