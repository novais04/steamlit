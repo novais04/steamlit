{
 "cells": [
  {
   "cell_type": "markdown",
   "id": "d5d64768",
   "metadata": {},
   "source": [
    "# Streamlit Dashboad\n",
    "[fonte](https://avoid.overfit.cn/post/24320cbf1d9c4ca7b1d3a9086b2ba5b9)"
   ]
  },
  {
   "cell_type": "markdown",
   "id": "7905242c-f081-4e0d-82b8-6a9e965861ba",
   "metadata": {},
   "source": [
    "## Import Packgers"
   ]
  },
  {
   "cell_type": "markdown",
   "id": "ea4daf91",
   "metadata": {},
   "source": []
  }
 ],
 "metadata": {
  "kernelspec": {
   "display_name": "Python 3 (ipykernel)",
   "language": "python",
   "name": "python3"
  },
  "language_info": {
   "codemirror_mode": {
    "name": "ipython",
    "version": 3
   },
   "file_extension": ".py",
   "mimetype": "text/x-python",
   "name": "python",
   "nbconvert_exporter": "python",
   "pygments_lexer": "ipython3",
   "version": "3.11.5"
  },
  "widgets": {
   "application/vnd.jupyter.widget-state+json": {
    "state": {},
    "version_major": 2,
    "version_minor": 0
   }
  }
 },
 "nbformat": 4,
 "nbformat_minor": 5
}
