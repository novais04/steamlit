import pandas as pd 
from sklearn.datasets import load_wine 

wine = load_wine()
wine_df = pd.DataFrame(wine.data, columns=wine.feature_names)
wine_df['WineType'] = [wine.target_names[t] for t in wine.target]

wine_df.head()


ingredients = wine_df.drop('WineType', axis=1)
ingredients.columns


avg_wine_df = wine_df.groupby("WineType").mean().reset_index()

avg_wine_df



