{
 "cells": [
  {
   "cell_type": "code",
   "execution_count": 2,
   "metadata": {},
   "outputs": [],
   "source": [
    "import pandas as pd\n",
    "import streamlit as st\n",
    "def load_data(year):\n",
    "    url = \"https://www.basketball-reference.com/leagues/NBA_\" + str(year) + \"_per_game.html\"\n",
    "    html=pd.read_html(url, header=0)\n",
    "    df=html[0]\n",
    "    raw=df.drop(df[df.Age=='Age'].index)\n",
    "    raw=raw.fillna(0)\n",
    "    playerstats=raw.drop(['Rk'],axis=1)\n",
    "    return playerstats\n",
    "    \n",
    "playerstats= load_data(2019)"
   ]
  },
  {
   "cell_type": "code",
   "execution_count": 3,
   "metadata": {},
   "outputs": [
    {
     "name": "stderr",
     "output_type": "stream",
     "text": [
      "2023-11-01 00:12:36.636 \n",
      "  \u001b[33m\u001b[1mWarning:\u001b[0m to view this Streamlit app on a browser, run it with the following\n",
      "  command:\n",
      "\n",
      "    streamlit run /Users/anselmo/opt/anaconda3/envs/dash_env/lib/python3.11/site-packages/ipykernel_launcher.py [ARGUMENTS]\n"
     ]
    }
   ],
   "source": [
    "# Sidebar - team selction\n",
    "sorted_unique_team = sorted(playerstats.Tm.unique())\n",
    "selected_team = st.sidebar.multiselect(\n",
    "    'Team',\n",
    "    sorted_unique_team\n",
    ")"
   ]
  },
  {
   "cell_type": "code",
   "execution_count": 4,
   "metadata": {},
   "outputs": [],
   "source": [
    "#sidebar - position selection\n",
    "unique_pos=['C','PF', 'SF', 'PG','SG']\n",
    "selected_pos=st.sidebar.multiselect(\n",
    "    'Poaition',\n",
    "    unique_pos\n",
    ")"
   ]
  },
  {
   "cell_type": "code",
   "execution_count": 5,
   "metadata": {},
   "outputs": [
    {
     "ename": "TypeError",
     "evalue": "'DataFrame' object is not callable",
     "output_type": "error",
     "traceback": [
      "\u001b[0;31m---------------------------------------------------------------------------\u001b[0m",
      "\u001b[0;31mTypeError\u001b[0m                                 Traceback (most recent call last)",
      "\u001b[1;32m/Users/anselmo/Documents/dev/python/Dash_plotly/streamlit/data_professor/aula_03/Untitled-1.ipynb Cell 4\u001b[0m line \u001b[0;36m2\n\u001b[1;32m      <a href='vscode-notebook-cell:/Users/anselmo/Documents/dev/python/Dash_plotly/streamlit/data_professor/aula_03/Untitled-1.ipynb#W3sZmlsZQ%3D%3D?line=0'>1</a>\u001b[0m \u001b[39m# filtering data\u001b[39;00m\n\u001b[0;32m----> <a href='vscode-notebook-cell:/Users/anselmo/Documents/dev/python/Dash_plotly/streamlit/data_professor/aula_03/Untitled-1.ipynb#W3sZmlsZQ%3D%3D?line=1'>2</a>\u001b[0m df_selcted_team \u001b[39m=\u001b[39m playerstats(playerstats\u001b[39m.\u001b[39;49mTm\u001b[39m.\u001b[39;49misin(selected_team) \u001b[39m&\u001b[39;49m (playerstats\u001b[39m.\u001b[39;49mPos\u001b[39m.\u001b[39;49misin(selected_pos)))\n",
      "\u001b[0;31mTypeError\u001b[0m: 'DataFrame' object is not callable"
     ]
    }
   ],
   "source": [
    "# filtering data\n",
    "df_selcted_team = playerstats(playerstats.Tm.isin(selected_team) & (playerstats.Pos.isin(selected_pos)))"
   ]
  },
  {
   "cell_type": "code",
   "execution_count": 6,
   "metadata": {},
   "outputs": [
    {
     "data": {
      "text/plain": [
       "Index(['Player', 'Pos', 'Age', 'Tm', 'G', 'GS', 'MP', 'FG', 'FGA', 'FG%', '3P',\n",
       "       '3PA', '3P%', '2P', '2PA', '2P%', 'eFG%', 'FT', 'FTA', 'FT%', 'ORB',\n",
       "       'DRB', 'TRB', 'AST', 'STL', 'BLK', 'TOV', 'PF', 'PTS'],\n",
       "      dtype='object')"
      ]
     },
     "execution_count": 6,
     "metadata": {},
     "output_type": "execute_result"
    }
   ],
   "source": [
    "playerstats.columns"
   ]
  },
  {
   "cell_type": "code",
   "execution_count": 7,
   "metadata": {},
   "outputs": [
    {
     "data": {
      "text/html": [
       "<div>\n",
       "<style scoped>\n",
       "    .dataframe tbody tr th:only-of-type {\n",
       "        vertical-align: middle;\n",
       "    }\n",
       "\n",
       "    .dataframe tbody tr th {\n",
       "        vertical-align: top;\n",
       "    }\n",
       "\n",
       "    .dataframe thead th {\n",
       "        text-align: right;\n",
       "    }\n",
       "</style>\n",
       "<table border=\"1\" class=\"dataframe\">\n",
       "  <thead>\n",
       "    <tr style=\"text-align: right;\">\n",
       "      <th></th>\n",
       "      <th>Player</th>\n",
       "      <th>Pos</th>\n",
       "      <th>Age</th>\n",
       "      <th>Tm</th>\n",
       "      <th>G</th>\n",
       "      <th>GS</th>\n",
       "      <th>MP</th>\n",
       "      <th>FG</th>\n",
       "      <th>FGA</th>\n",
       "      <th>FG%</th>\n",
       "      <th>...</th>\n",
       "      <th>FT%</th>\n",
       "      <th>ORB</th>\n",
       "      <th>DRB</th>\n",
       "      <th>TRB</th>\n",
       "      <th>AST</th>\n",
       "      <th>STL</th>\n",
       "      <th>BLK</th>\n",
       "      <th>TOV</th>\n",
       "      <th>PF</th>\n",
       "      <th>PTS</th>\n",
       "    </tr>\n",
       "  </thead>\n",
       "  <tbody>\n",
       "    <tr>\n",
       "      <th>0</th>\n",
       "      <td>Álex Abrines</td>\n",
       "      <td>SG</td>\n",
       "      <td>25</td>\n",
       "      <td>OKC</td>\n",
       "      <td>31</td>\n",
       "      <td>2</td>\n",
       "      <td>19.0</td>\n",
       "      <td>1.8</td>\n",
       "      <td>5.1</td>\n",
       "      <td>.357</td>\n",
       "      <td>...</td>\n",
       "      <td>.923</td>\n",
       "      <td>0.2</td>\n",
       "      <td>1.4</td>\n",
       "      <td>1.5</td>\n",
       "      <td>0.6</td>\n",
       "      <td>0.5</td>\n",
       "      <td>0.2</td>\n",
       "      <td>0.5</td>\n",
       "      <td>1.7</td>\n",
       "      <td>5.3</td>\n",
       "    </tr>\n",
       "    <tr>\n",
       "      <th>1</th>\n",
       "      <td>Quincy Acy</td>\n",
       "      <td>PF</td>\n",
       "      <td>28</td>\n",
       "      <td>PHO</td>\n",
       "      <td>10</td>\n",
       "      <td>0</td>\n",
       "      <td>12.3</td>\n",
       "      <td>0.4</td>\n",
       "      <td>1.8</td>\n",
       "      <td>.222</td>\n",
       "      <td>...</td>\n",
       "      <td>.700</td>\n",
       "      <td>0.3</td>\n",
       "      <td>2.2</td>\n",
       "      <td>2.5</td>\n",
       "      <td>0.8</td>\n",
       "      <td>0.1</td>\n",
       "      <td>0.4</td>\n",
       "      <td>0.4</td>\n",
       "      <td>2.4</td>\n",
       "      <td>1.7</td>\n",
       "    </tr>\n",
       "    <tr>\n",
       "      <th>2</th>\n",
       "      <td>Jaylen Adams</td>\n",
       "      <td>PG</td>\n",
       "      <td>22</td>\n",
       "      <td>ATL</td>\n",
       "      <td>34</td>\n",
       "      <td>1</td>\n",
       "      <td>12.6</td>\n",
       "      <td>1.1</td>\n",
       "      <td>3.2</td>\n",
       "      <td>.345</td>\n",
       "      <td>...</td>\n",
       "      <td>.778</td>\n",
       "      <td>0.3</td>\n",
       "      <td>1.4</td>\n",
       "      <td>1.8</td>\n",
       "      <td>1.9</td>\n",
       "      <td>0.4</td>\n",
       "      <td>0.1</td>\n",
       "      <td>0.8</td>\n",
       "      <td>1.3</td>\n",
       "      <td>3.2</td>\n",
       "    </tr>\n",
       "    <tr>\n",
       "      <th>3</th>\n",
       "      <td>Steven Adams</td>\n",
       "      <td>C</td>\n",
       "      <td>25</td>\n",
       "      <td>OKC</td>\n",
       "      <td>80</td>\n",
       "      <td>80</td>\n",
       "      <td>33.4</td>\n",
       "      <td>6.0</td>\n",
       "      <td>10.1</td>\n",
       "      <td>.595</td>\n",
       "      <td>...</td>\n",
       "      <td>.500</td>\n",
       "      <td>4.9</td>\n",
       "      <td>4.6</td>\n",
       "      <td>9.5</td>\n",
       "      <td>1.6</td>\n",
       "      <td>1.5</td>\n",
       "      <td>1.0</td>\n",
       "      <td>1.7</td>\n",
       "      <td>2.6</td>\n",
       "      <td>13.9</td>\n",
       "    </tr>\n",
       "    <tr>\n",
       "      <th>4</th>\n",
       "      <td>Bam Adebayo</td>\n",
       "      <td>C</td>\n",
       "      <td>21</td>\n",
       "      <td>MIA</td>\n",
       "      <td>82</td>\n",
       "      <td>28</td>\n",
       "      <td>23.3</td>\n",
       "      <td>3.4</td>\n",
       "      <td>5.9</td>\n",
       "      <td>.576</td>\n",
       "      <td>...</td>\n",
       "      <td>.735</td>\n",
       "      <td>2.0</td>\n",
       "      <td>5.3</td>\n",
       "      <td>7.3</td>\n",
       "      <td>2.2</td>\n",
       "      <td>0.9</td>\n",
       "      <td>0.8</td>\n",
       "      <td>1.5</td>\n",
       "      <td>2.5</td>\n",
       "      <td>8.9</td>\n",
       "    </tr>\n",
       "  </tbody>\n",
       "</table>\n",
       "<p>5 rows × 29 columns</p>\n",
       "</div>"
      ],
      "text/plain": [
       "         Player Pos Age   Tm   G  GS    MP   FG   FGA   FG%  ...   FT%  ORB  \\\n",
       "0  Álex Abrines  SG  25  OKC  31   2  19.0  1.8   5.1  .357  ...  .923  0.2   \n",
       "1    Quincy Acy  PF  28  PHO  10   0  12.3  0.4   1.8  .222  ...  .700  0.3   \n",
       "2  Jaylen Adams  PG  22  ATL  34   1  12.6  1.1   3.2  .345  ...  .778  0.3   \n",
       "3  Steven Adams   C  25  OKC  80  80  33.4  6.0  10.1  .595  ...  .500  4.9   \n",
       "4   Bam Adebayo   C  21  MIA  82  28  23.3  3.4   5.9  .576  ...  .735  2.0   \n",
       "\n",
       "   DRB  TRB  AST  STL  BLK  TOV   PF   PTS  \n",
       "0  1.4  1.5  0.6  0.5  0.2  0.5  1.7   5.3  \n",
       "1  2.2  2.5  0.8  0.1  0.4  0.4  2.4   1.7  \n",
       "2  1.4  1.8  1.9  0.4  0.1  0.8  1.3   3.2  \n",
       "3  4.6  9.5  1.6  1.5  1.0  1.7  2.6  13.9  \n",
       "4  5.3  7.3  2.2  0.9  0.8  1.5  2.5   8.9  \n",
       "\n",
       "[5 rows x 29 columns]"
      ]
     },
     "execution_count": 7,
     "metadata": {},
     "output_type": "execute_result"
    }
   ],
   "source": [
    "playerstats.head()"
   ]
  },
  {
   "cell_type": "code",
   "execution_count": null,
   "metadata": {},
   "outputs": [],
   "source": []
  }
 ],
 "metadata": {
  "kernelspec": {
   "display_name": "dash_env",
   "language": "python",
   "name": "python3"
  },
  "language_info": {
   "codemirror_mode": {
    "name": "ipython",
    "version": 3
   },
   "file_extension": ".py",
   "mimetype": "text/x-python",
   "name": "python",
   "nbconvert_exporter": "python",
   "pygments_lexer": "ipython3",
   "version": "3.11.5"
  }
 },
 "nbformat": 4,
 "nbformat_minor": 2
}
